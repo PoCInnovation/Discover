{
 "cells": [
  {
   "cell_type": "code",
   "execution_count": null,
   "metadata": {},
   "outputs": [],
   "source": [
    "import torch\n",
    "\n",
    "# Numpy for matrices\n",
    "import numpy as np\n",
    "\n",
    "# Visualization libraries\n",
    "import matplotlib.pyplot as plt\n",
    "import networkx as nx"
   ]
  },
  {
   "cell_type": "code",
   "execution_count": null,
   "metadata": {},
   "outputs": [],
   "source": [
    "from torch_geometric.datasets import WikiCS\n",
    "\n",
    "# Import dataset from PyTorch Geometric\n",
    "dataset = WikiCS('./')\n",
    "\n",
    "# Print information\n",
    "print(dataset)\n",
    "print('------------')\n",
    "print(f'Number of graphs: {len(dataset)}')\n",
    "print(f'Number of features: {dataset.num_features}')\n",
    "print(f'Number of classes: {dataset.num_classes}')"
   ]
  },
  {
   "cell_type": "code",
   "execution_count": null,
   "metadata": {},
   "outputs": [],
   "source": [
    "print(f'Graph: {dataset[0]}')\n",
    "data = dataset[0]"
   ]
  },
  {
   "cell_type": "code",
   "execution_count": null,
   "metadata": {},
   "outputs": [],
   "source": [
    "from torch.nn import Linear\n",
    "import torch_geometric.nn as gnn\n",
    "\n",
    "class GNN(torch.nn.Module):\n",
    "    def __init__(self, algorithm):\n",
    "        super().__init__()\n",
    "\n",
    "        if algorithm == 'gat':\n",
    "            self.gcn = gnn.GATConv(dataset.num_features, 64)\n",
    "        else:\n",
    "            self.gcn = gnn.GCNConv(dataset.num_features, 64)\n",
    "        self.hdn = Linear(64, 32)\n",
    "        self.out = Linear(32, dataset.num_classes)\n",
    "\n",
    "        self.loss = []\n",
    "        self.accuracy = []\n",
    "        self.optim = None\n",
    "\n",
    "    def forward(self, x, edge_index):\n",
    "        embeddings = self.gcn(x, edge_index).relu()\n",
    "        x = self.hdn(embeddings).relu()\n",
    "        x = self.out(x)\n",
    "        return x, embeddings\n",
    "\n",
    "gcn = GNN('gcn')\n",
    "gcn.optim = torch.optim.Adam(gcn.parameters(), lr=5e-3)\n",
    "print(gcn)\n",
    "\n",
    "gat = GNN('gat')\n",
    "gat.optim = torch.optim.Adam(gat.parameters(), lr=5e-3)\n",
    "print(gat)"
   ]
  },
  {
   "cell_type": "code",
   "execution_count": null,
   "metadata": {},
   "outputs": [],
   "source": [
    "data.x"
   ]
  },
  {
   "cell_type": "code",
   "execution_count": null,
   "metadata": {},
   "outputs": [],
   "source": [
    "criterion = torch.nn.CrossEntropyLoss()\n",
    "\n",
    "# Calculate accuracy\n",
    "def accuracy(pred_y, y):\n",
    "    return (pred_y == y).sum() / len(y)\n",
    "\n",
    "# Training loop\n",
    "for epoch in range(100):\n",
    "    # Clear gradients\n",
    "    gcn.optim.zero_grad()\n",
    "    gat.optim.zero_grad()\n",
    "\n",
    "    # Forward pass\n",
    "    output_gcn, _ = gcn(data.x, data.edge_index)\n",
    "    output_gat, _ = gat(data.x, data.edge_index)\n",
    "\n",
    "    # Calculate loss function\n",
    "    gcn_loss = criterion(output_gcn, data.y)\n",
    "    gat_loss = criterion(output_gat, data.y)\n",
    "\n",
    "    # Compute gradients\n",
    "    gcn_loss.backward()\n",
    "    gat_loss.backward()\n",
    "\n",
    "    # Tune parameters\n",
    "    gcn.optim.step()\n",
    "    gat.optim.step()\n",
    "\n",
    "    # Store data for animations\n",
    "    gcn.loss.append(gcn_loss.item())\n",
    "    gcn.accuracy.append(accuracy(output_gcn.argmax(dim=1), data.y))\n",
    "\n",
    "    # Store data for animations\n",
    "    gat.loss.append(gat_loss.item())\n",
    "    gat.accuracy.append(accuracy(output_gat.argmax(dim=1), data.y))\n",
    "\n",
    "    # Print metrics every 10 epochs\n",
    "    if epoch % 10 == 0:\n",
    "        print(f'Epoch {epoch:>3}')\n",
    "        print(f'\\tGCN | Loss: {gcn.loss[-1]:.2f} | Acc: {gcn.accuracy[-1]*100:.2f}%')\n",
    "        print(f'\\tGAT | Loss: {gat.loss[-1]:.2f} | Acc: {gat.accuracy[-1]*100:.2f}%')"
   ]
  },
  {
   "cell_type": "code",
   "execution_count": null,
   "metadata": {},
   "outputs": [],
   "source": [
    "fig, ax = plt.subplots(1, 2)\n",
    "\n",
    "ax[0].plot(gcn.accuracy, linewidth=2, color='green', label=\"GCN\")\n",
    "ax[1].plot(gcn.loss, linewidth=2, color='green')\n",
    "\n",
    "ax[0].plot(gat.accuracy, linewidth=2, color='red', label=\"GAT\")\n",
    "ax[1].plot(gat.loss, linewidth=2, color='red')\n",
    "\n",
    "ax[0].set_title('Accuracy over training')\n",
    "ax[1].set_title('Loss over training')\n",
    "\n",
    "fig.legend()\n",
    "fig.show()"
   ]
  },
  {
   "cell_type": "code",
   "execution_count": null,
   "metadata": {},
   "outputs": [],
   "source": [
    "labels = ['Computational Linguistics',          # 0\n",
    "        'Databases',                            # 1\n",
    "        'Operating Systems',                    # 2\n",
    "        'Computer Architecture',                # 3\n",
    "        'Computer Security',                    # 4\n",
    "        'Internet Protocols',                   # 5\n",
    "        \"Computer File Systems\",                # 6\n",
    "        'Distributed Computing Architecture',   # 7 \n",
    "        'Web Technology',                       # 8\n",
    "        \"Programming Language\"]                 # 9"
   ]
  },
  {
   "cell_type": "code",
   "execution_count": null,
   "metadata": {},
   "outputs": [],
   "source": [
    "data.edge_index"
   ]
  },
  {
   "cell_type": "code",
   "execution_count": null,
   "metadata": {},
   "outputs": [],
   "source": [
    "output, embeddings = gat(data.x, data.edge_index)\n",
    "\n",
    "print(labels[data.y[0]])\n",
    "print(labels[torch.argmax(output[0]).item()])"
   ]
  },
  {
   "cell_type": "code",
   "execution_count": null,
   "metadata": {},
   "outputs": [],
   "source": [
    "import torch.nn.functional as F"
   ]
  },
  {
   "cell_type": "code",
   "execution_count": null,
   "metadata": {},
   "outputs": [],
   "source": [
    "embeddings[0].shape"
   ]
  },
  {
   "cell_type": "code",
   "execution_count": null,
   "metadata": {},
   "outputs": [],
   "source": [
    "embeddings[0]"
   ]
  },
  {
   "cell_type": "code",
   "execution_count": null,
   "metadata": {},
   "outputs": [],
   "source": [
    "data.y[:10]\n",
    "values = []\n",
    "for i in range(10):\n",
    "    values.append(torch.argmax(output[i]).item())\n",
    "values ## keeping only ten items for simplicity"
   ]
  },
  {
   "cell_type": "code",
   "execution_count": null,
   "metadata": {},
   "outputs": [],
   "source": [
    "idx = 2\n",
    "to_compare = embeddings[idx] # picking an embedding from the list"
   ]
  },
  {
   "cell_type": "code",
   "execution_count": null,
   "metadata": {},
   "outputs": [],
   "source": [
    "similarities = torch.tensor(\n",
    "    [F.cosine_similarity( # similarity between two tensors\n",
    "        to_compare, embd, dim=0\n",
    "        ) for embd in embeddings[:10]] # get similarities from our 10 items\n",
    "    )\n",
    "_, indices = torch.topk(similarities, 2) # top 2 largest similarities"
   ]
  },
  {
   "cell_type": "code",
   "execution_count": null,
   "metadata": {},
   "outputs": [],
   "source": [
    "for i in range(len(values)):\n",
    "    print(\"\\033[00m\", end=\"\")\n",
    "    if i == indices[1].item(): # keeping 2nd similarity because #1 is `to_compare` itself\n",
    "        print(\"\\033[92m\", end=\"\")\n",
    "    if i == idx:\n",
    "        print(\"\\033[93m\", end=\"\")\n",
    "    print(values[i], end=',')"
   ]
  },
  {
   "attachments": {},
   "cell_type": "markdown",
   "metadata": {},
   "source": [
    "In yellow, the requested tensor to compare\n",
    "\n",
    "In green, the most similar tensor"
   ]
  }
 ],
 "metadata": {
  "kernelspec": {
   "display_name": "Python 3.9.15 ('discover')",
   "language": "python",
   "name": "python3"
  },
  "language_info": {
   "codemirror_mode": {
    "name": "ipython",
    "version": 3
   },
   "file_extension": ".py",
   "mimetype": "text/x-python",
   "name": "python",
   "nbconvert_exporter": "python",
   "pygments_lexer": "ipython3",
   "version": "3.9.15"
  },
  "orig_nbformat": 4,
  "vscode": {
   "interpreter": {
    "hash": "72e38a296cfdcb72d507ac90300b95ec9677bb17d7cee71ed3f88ce21f3b7fe9"
   }
  }
 },
 "nbformat": 4,
 "nbformat_minor": 2
}
