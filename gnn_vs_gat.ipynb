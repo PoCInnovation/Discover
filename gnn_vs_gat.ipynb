{
 "cells": [
  {
   "cell_type": "code",
   "execution_count": 1,
   "metadata": {},
   "outputs": [
    {
     "name": "stderr",
     "output_type": "stream",
     "text": [
      "/home/agherasie/anaconda3/envs/discover/lib/python3.9/site-packages/tqdm/auto.py:22: TqdmWarning: IProgress not found. Please update jupyter and ipywidgets. See https://ipywidgets.readthedocs.io/en/stable/user_install.html\n",
      "  from .autonotebook import tqdm as notebook_tqdm\n"
     ]
    }
   ],
   "source": [
    "import torch\n",
    "\n",
    "# Numpy for matrices\n",
    "import numpy as np\n",
    "\n",
    "# Visualization libraries\n",
    "import matplotlib.pyplot as plt\n",
    "import networkx as nx"
   ]
  },
  {
   "cell_type": "code",
   "execution_count": 2,
   "metadata": {},
   "outputs": [
    {
     "name": "stdout",
     "output_type": "stream",
     "text": [
      "WikiCS()\n",
      "------------\n",
      "Number of graphs: 1\n",
      "Number of features: 300\n",
      "Number of classes: 10\n"
     ]
    },
    {
     "name": "stderr",
     "output_type": "stream",
     "text": [
      "/home/agherasie/anaconda3/envs/discover/lib/python3.9/site-packages/torch_geometric/datasets/wikics.py:38: UserWarning: The WikiCS dataset now returns an undirected graph by default. Please explicitly specify 'is_undirected=False' to restore the old behaviour.\n",
      "  warnings.warn(\n"
     ]
    }
   ],
   "source": [
    "from torch_geometric.datasets import WikiCS\n",
    "\n",
    "# Import dataset from PyTorch Geometric\n",
    "dataset = WikiCS('./')\n",
    "\n",
    "# Print information\n",
    "print(dataset)\n",
    "print('------------')\n",
    "print(f'Number of graphs: {len(dataset)}')\n",
    "print(f'Number of features: {dataset.num_features}')\n",
    "print(f'Number of classes: {dataset.num_classes}')"
   ]
  },
  {
   "cell_type": "code",
   "execution_count": 3,
   "metadata": {},
   "outputs": [
    {
     "name": "stdout",
     "output_type": "stream",
     "text": [
      "Graph: Data(x=[11701, 300], edge_index=[2, 431726], y=[11701], train_mask=[11701, 20], val_mask=[11701, 20], test_mask=[11701], stopping_mask=[11701, 20])\n"
     ]
    }
   ],
   "source": [
    "print(f'Graph: {dataset[0]}')\n",
    "data = dataset[0]"
   ]
  },
  {
   "cell_type": "code",
   "execution_count": 4,
   "metadata": {},
   "outputs": [
    {
     "name": "stdout",
     "output_type": "stream",
     "text": [
      "GNN(\n",
      "  (gcn): GCNConv(300, 64)\n",
      "  (hdn): Linear(in_features=64, out_features=32, bias=True)\n",
      "  (out): Linear(in_features=32, out_features=10, bias=True)\n",
      ")\n",
      "GNN(\n",
      "  (gcn): GATConv(300, 64, heads=1)\n",
      "  (hdn): Linear(in_features=64, out_features=32, bias=True)\n",
      "  (out): Linear(in_features=32, out_features=10, bias=True)\n",
      ")\n"
     ]
    }
   ],
   "source": [
    "from torch.nn import Linear\n",
    "import torch_geometric.nn as gnn\n",
    "\n",
    "class GNN(torch.nn.Module):\n",
    "    def __init__(self, algorithm):\n",
    "        super().__init__()\n",
    "\n",
    "        if algorithm == 'gat':\n",
    "            self.gcn = gnn.GATConv(dataset.num_features, 64)\n",
    "        else:\n",
    "            self.gcn = gnn.GCNConv(dataset.num_features, 64)\n",
    "        self.hdn = Linear(64, 32)\n",
    "        self.out = Linear(32, dataset.num_classes)\n",
    "\n",
    "        self.loss = []\n",
    "        self.accuracy = []\n",
    "        self.optim = None\n",
    "\n",
    "    def forward(self, x, edge_index):\n",
    "        x = self.gcn(x, edge_index).relu()\n",
    "        x = self.hdn(x).relu()\n",
    "        x = self.out(x)\n",
    "        return x\n",
    "\n",
    "gcn = GNN('gcn')\n",
    "gcn.optim = torch.optim.Adam(gcn.parameters(), lr=5e-3)\n",
    "print(gcn)\n",
    "\n",
    "gat = GNN('gat')\n",
    "gat.optim = torch.optim.Adam(gat.parameters(), lr=5e-3)\n",
    "print(gat)"
   ]
  },
  {
   "cell_type": "code",
   "execution_count": 5,
   "metadata": {},
   "outputs": [
    {
     "data": {
      "text/plain": [
       "tensor([[-0.0204,  0.0646,  0.0197,  ..., -0.0754, -0.1124,  0.1514],\n",
       "        [-0.0438, -0.0317, -0.0082,  ..., -0.0658,  0.0643, -0.0588],\n",
       "        [-0.1127,  0.0098,  0.1422,  ...,  0.1398, -0.0195,  0.0451],\n",
       "        ...,\n",
       "        [ 0.0368,  0.0305, -0.0285,  ..., -0.0600, -0.0721,  0.1510],\n",
       "        [-0.0329,  0.0195, -0.1278,  ..., -0.1751, -0.0754,  0.1974],\n",
       "        [ 0.0530,  0.0480, -0.0100,  ...,  0.0250, -0.0308,  0.0691]])"
      ]
     },
     "execution_count": 5,
     "metadata": {},
     "output_type": "execute_result"
    }
   ],
   "source": [
    "data.x"
   ]
  },
  {
   "cell_type": "code",
   "execution_count": 6,
   "metadata": {},
   "outputs": [
    {
     "name": "stdout",
     "output_type": "stream",
     "text": [
      "Epoch   0\n",
      "\tGCN | Loss: 2.35 | Acc: 4.26%\n",
      "\tGAT | Loss: 2.31 | Acc: 4.22%\n",
      "Epoch  10\n",
      "\tGCN | Loss: 2.09 | Acc: 19.08%\n",
      "\tGAT | Loss: 1.88 | Acc: 49.16%\n",
      "Epoch  20\n",
      "\tGCN | Loss: 1.82 | Acc: 51.97%\n",
      "\tGAT | Loss: 1.40 | Acc: 56.94%\n",
      "Epoch  30\n",
      "\tGCN | Loss: 1.38 | Acc: 60.05%\n",
      "\tGAT | Loss: 1.09 | Acc: 66.28%\n",
      "Epoch  40\n",
      "\tGCN | Loss: 1.04 | Acc: 68.52%\n",
      "\tGAT | Loss: 0.90 | Acc: 71.79%\n",
      "Epoch  50\n",
      "\tGCN | Loss: 0.86 | Acc: 73.87%\n",
      "\tGAT | Loss: 0.79 | Acc: 76.32%\n",
      "Epoch  60\n",
      "\tGCN | Loss: 0.77 | Acc: 76.70%\n",
      "\tGAT | Loss: 0.69 | Acc: 79.00%\n",
      "Epoch  70\n",
      "\tGCN | Loss: 0.70 | Acc: 79.21%\n",
      "\tGAT | Loss: 0.63 | Acc: 80.80%\n",
      "Epoch  80\n",
      "\tGCN | Loss: 0.65 | Acc: 80.16%\n",
      "\tGAT | Loss: 0.58 | Acc: 81.51%\n",
      "Epoch  90\n",
      "\tGCN | Loss: 0.62 | Acc: 81.02%\n",
      "\tGAT | Loss: 0.56 | Acc: 82.51%\n"
     ]
    }
   ],
   "source": [
    "criterion = torch.nn.CrossEntropyLoss()\n",
    "\n",
    "# Calculate accuracy\n",
    "def accuracy(pred_y, y):\n",
    "    return (pred_y == y).sum() / len(y)\n",
    "\n",
    "# Training loop\n",
    "for epoch in range(100):\n",
    "    # Clear gradients\n",
    "    gcn.optim.zero_grad()\n",
    "    gat.optim.zero_grad()\n",
    "\n",
    "    # Forward pass\n",
    "    output_gcn = gcn(data.x, data.edge_index)\n",
    "    output_gat = gat(data.x, data.edge_index)\n",
    "\n",
    "    # Calculate loss function\n",
    "    gcn_loss = criterion(output_gcn, data.y)\n",
    "    gat_loss = criterion(output_gat, data.y)\n",
    "\n",
    "    # Compute gradients\n",
    "    gcn_loss.backward()\n",
    "    gat_loss.backward()\n",
    "\n",
    "    # Tune parameters\n",
    "    gcn.optim.step()\n",
    "    gat.optim.step()\n",
    "\n",
    "    # Store data for animations\n",
    "    gcn.loss.append(gcn_loss.item())\n",
    "    gcn.accuracy.append(accuracy(output_gcn.argmax(dim=1), data.y))\n",
    "\n",
    "    # Store data for animations\n",
    "    gat.loss.append(gat_loss.item())\n",
    "    gat.accuracy.append(accuracy(output_gat.argmax(dim=1), data.y))\n",
    "\n",
    "    # Print metrics every 10 epochs\n",
    "    if epoch % 10 == 0:\n",
    "        print(f'Epoch {epoch:>3}')\n",
    "        print(f'\\tGCN | Loss: {gcn.loss[-1]:.2f} | Acc: {gcn.accuracy[-1]*100:.2f}%')\n",
    "        print(f'\\tGAT | Loss: {gat.loss[-1]:.2f} | Acc: {gat.accuracy[-1]*100:.2f}%')"
   ]
  },
  {
   "cell_type": "code",
   "execution_count": 12,
   "metadata": {},
   "outputs": [
    {
     "name": "stderr",
     "output_type": "stream",
     "text": [
      "/tmp/ipykernel_166132/4189017740.py:13: UserWarning: Matplotlib is currently using module://matplotlib_inline.backend_inline, which is a non-GUI backend, so cannot show the figure.\n",
      "  fig.show()\n"
     ]
    },
    {
     "data": {
      "image/png": "[encoded data removed]",
      "text/plain": [
       "<Figure size 640x480 with 2 Axes>"
      ]
     },
     "metadata": {},
     "output_type": "display_data"
    }
   ],
   "source": [
    "fig, ax = plt.subplots(1, 2)\n",
    "\n",
    "ax[0].plot(gcn.accuracy, linewidth=2, color='green', label=\"GCN\")\n",
    "ax[1].plot(gcn.loss, linewidth=2, color='green')\n",
    "\n",
    "ax[0].plot(gat.accuracy, linewidth=2, color='red', label=\"GAT\")\n",
    "ax[1].plot(gat.loss, linewidth=2, color='red')\n",
    "\n",
    "ax[0].set_title('Accuracy over training')\n",
    "ax[1].set_title('Loss over training')\n",
    "\n",
    "fig.legend()\n",
    "fig.show()"
   ]
  },
  {
   "cell_type": "code",
   "execution_count": 8,
   "metadata": {},
   "outputs": [],
   "source": [
    "labels = ['Computational Linguistics',          # 0\n",
    "        'Databases',                            # 1\n",
    "        'Operating Systems',                    # 2\n",
    "        'Computer Architecture',                # 3\n",
    "        'Computer Security',                    # 4\n",
    "        'Internet Protocols',                   # 5\n",
    "        \"Computer File Systems\",                # 6\n",
    "        'Distributed Computing Architecture',   # 7 \n",
    "        'Web Technology',                       # 8\n",
    "        \"Programming Language\"]                 # 9"
   ]
  },
  {
   "cell_type": "code",
   "execution_count": 9,
   "metadata": {},
   "outputs": [
    {
     "data": {
      "text/plain": [
       "tensor([[    0,     0,     0,  ..., 11700, 11700, 11700],\n",
       "        [ 3925,  5830,  7248,  ...,  7586,  8454, 11306]])"
      ]
     },
     "execution_count": 9,
     "metadata": {},
     "output_type": "execute_result"
    }
   ],
   "source": [
    "data.edge_index"
   ]
  },
  {
   "cell_type": "code",
   "execution_count": 13,
   "metadata": {},
   "outputs": [
    {
     "data": {
      "text/plain": [
       "tensor([-2.0350e-02,  6.4643e-02,  1.9732e-02,  7.4099e-03, -3.8602e-02,\n",
       "         2.3387e-02,  1.0587e-01, -1.4798e-01,  1.0098e-01,  1.2045e+00,\n",
       "        -2.2493e-01, -7.7824e-02,  9.5312e-02, -1.6710e-03, -1.1199e-01,\n",
       "         9.2062e-02,  1.3881e-03,  8.9788e-01,  4.3789e-02, -3.2938e-02,\n",
       "         4.4461e-02,  1.4274e-01, -2.3118e-02,  9.8274e-03,  5.4011e-02,\n",
       "         3.2255e-02, -5.8979e-02,  2.5383e-02,  2.7275e-02,  4.3233e-02,\n",
       "         1.0568e-01, -1.8941e-01,  3.0730e-02,  2.4309e-02, -1.0859e-01,\n",
       "         2.9326e-02, -8.1450e-02, -9.3722e-02, -2.6157e-02, -2.2192e-02,\n",
       "         6.2961e-02,  4.4854e-02,  1.7270e-01, -4.4667e-02, -1.1727e-01,\n",
       "         7.8514e-02,  2.7254e-02, -5.9800e-02, -1.9231e-02, -1.0056e-02,\n",
       "         7.4689e-03, -4.2051e-02, -9.2576e-02, -1.1339e-01,  8.0031e-03,\n",
       "        -4.4761e-02, -3.3492e-02, -3.4454e-02,  5.2315e-02, -9.1848e-03,\n",
       "        -2.2869e-02, -4.2657e-03,  1.6825e-02,  4.5552e-02,  2.2780e-01,\n",
       "        -2.9103e-02,  3.6836e-02,  5.8039e-02, -7.6585e-02, -6.3979e-02,\n",
       "         5.9962e-03,  2.3710e-02,  5.0983e-02, -8.3585e-02,  3.3991e-02,\n",
       "         3.4571e-02,  7.1467e-02,  5.2211e-02, -2.6728e-03,  1.8013e-01,\n",
       "         6.3754e-02,  1.5123e-01,  3.0078e-03,  8.8847e-02, -6.4925e-02,\n",
       "         1.1408e-01, -3.3760e-02, -2.8197e-02,  8.6481e-02, -1.0824e-01,\n",
       "         5.9192e-02, -6.7626e-02, -9.6143e-02, -5.4157e-02,  9.7803e-02,\n",
       "         4.6875e-02, -7.2921e-02, -6.8564e-02, -1.0538e-03,  1.0637e-01,\n",
       "        -1.2401e-02,  1.2763e-02, -5.9856e-02,  1.0899e-01, -9.1035e-02,\n",
       "        -8.4686e-01,  7.4421e-02,  7.6825e-02,  1.0883e-02,  6.2518e-02,\n",
       "        -3.7089e-03, -8.5178e-02,  9.4403e-02,  2.7677e-02, -2.0552e-02,\n",
       "         2.0376e-03,  1.8218e-01,  1.3936e-01, -7.6403e-02,  1.0021e-01,\n",
       "         6.4569e-02,  3.7150e-02,  1.8992e-02, -1.0051e-01, -2.8715e-02,\n",
       "         7.6708e-02,  2.0199e-01,  7.9888e-02, -4.3172e-02,  3.1284e-02,\n",
       "        -1.1044e-01, -6.7331e-02,  7.5879e-02, -9.6799e-02, -1.0843e-01,\n",
       "        -7.0936e-02,  9.9460e-03, -3.7903e-02,  2.4857e-03, -4.2237e-02,\n",
       "        -4.4854e-01, -5.5620e-02,  4.6416e-03, -4.6934e-02, -5.7648e-03,\n",
       "        -1.0950e-02,  1.2697e-01,  3.4504e-02, -1.5974e-01, -5.6898e-02,\n",
       "         1.0893e-01, -1.2313e-01,  3.6067e-02,  8.6615e-02,  2.5559e-03,\n",
       "         2.0114e-02, -5.2526e-02, -1.7158e-02,  3.7486e-03,  2.9287e-02,\n",
       "         9.0140e-02, -1.1820e-02, -1.3034e-01, -1.8555e-01, -8.8301e-02,\n",
       "         4.5159e-02,  2.5066e-02, -6.6099e-03, -5.4111e-02,  4.2409e-02,\n",
       "         8.8404e-03,  1.1915e-01,  3.1679e-02,  5.7733e-03,  8.1405e-03,\n",
       "         2.3838e-03, -1.3083e-03,  6.5144e-03,  2.9386e-02,  1.2202e-01,\n",
       "         7.0189e-02,  3.9359e-02,  4.4010e-02, -5.8761e-02,  7.6701e-02,\n",
       "         4.8782e-02, -7.5240e-02,  5.7489e-02, -2.3802e-02, -7.1029e-02,\n",
       "         1.1572e-01, -7.8360e-02,  4.2183e-02,  4.3072e-02,  1.3901e-02,\n",
       "        -2.4020e-02, -3.3141e-02,  4.8075e-02,  5.1457e-02,  2.5193e-02,\n",
       "         5.3444e-02, -2.0930e-01,  6.3544e-02,  6.9756e-02,  3.4092e-02,\n",
       "         2.5424e-02, -6.6334e-02, -1.9381e-02, -4.6265e-02,  2.2506e-02,\n",
       "        -1.1511e-01, -1.3338e-01,  4.2654e-02,  2.4820e-02,  2.6469e-02,\n",
       "         2.6458e-02, -7.6762e-02, -1.6250e-01, -9.1655e-02,  9.0966e-02,\n",
       "        -2.9103e-02,  1.4831e-02, -2.1950e-02,  1.6045e-01, -9.6153e-02,\n",
       "        -6.4761e-02,  9.7773e-02, -9.5649e-02, -5.2477e-02,  5.6550e-02,\n",
       "         1.2727e-01,  3.4711e-02,  1.1143e-02, -1.6415e-01, -1.6659e-01,\n",
       "        -5.5666e-02, -1.4487e-01, -4.7187e-02,  7.4319e-02, -6.3028e-03,\n",
       "        -4.8334e-02, -6.9702e-02,  6.4453e-02,  7.9749e-02,  1.4492e-01,\n",
       "        -9.9412e-02,  8.0550e-02, -8.2904e-03, -9.2488e-02, -3.5414e-02,\n",
       "         4.5215e-02, -1.4275e-02, -1.0293e-01, -6.4578e-02,  6.7574e-02,\n",
       "        -1.1778e-01, -4.3148e-02, -1.0968e-01, -6.5043e-02, -1.5778e-01,\n",
       "         2.1272e-01,  9.6701e-02,  9.7195e-03,  9.8110e-02,  5.0647e-02,\n",
       "        -2.5442e-01, -2.2904e-02, -8.4026e-02,  2.8886e-01,  2.0757e-02,\n",
       "        -8.8686e-02,  1.2908e-02,  8.5875e-02,  1.0941e-01, -3.8997e-02,\n",
       "        -5.6000e-02,  2.0373e-02, -1.6372e-01,  1.2999e-01, -3.5161e-02,\n",
       "        -8.1075e-02,  1.5987e-02,  1.2403e-02,  1.3549e-01,  6.4441e-03,\n",
       "        -7.1865e-02,  6.4721e-02,  4.7846e-02, -1.8071e-02,  2.6507e-02,\n",
       "        -1.4833e-01,  6.6336e-02,  5.0906e-02,  1.6651e-01,  7.0193e-04,\n",
       "        -1.7959e-01, -2.7529e-03, -7.5393e-02, -1.1237e-01,  1.5136e-01])"
      ]
     },
     "execution_count": 13,
     "metadata": {},
     "output_type": "execute_result"
    }
   ],
   "source": [
    "data.x[0]"
   ]
  },
  {
   "cell_type": "code",
   "execution_count": 10,
   "metadata": {},
   "outputs": [
    {
     "name": "stdout",
     "output_type": "stream",
     "text": [
      "Distributed Computing Architecture\n",
      "Distributed Computing Architecture\n"
     ]
    }
   ],
   "source": [
    "output = gcn(data.x, data.edge_index)\n",
    "\n",
    "print(labels[data.y[0]])\n",
    "print(labels[torch.argmax(output[0]).item()])"
   ]
  }
 ],
 "metadata": {
  "kernelspec": {
   "display_name": "Python 3.9.15 ('discover')",
   "language": "python",
   "name": "python3"
  },
  "language_info": {
   "codemirror_mode": {
    "name": "ipython",
    "version": 3
   },
   "file_extension": ".py",
   "mimetype": "text/x-python",
   "name": "python",
   "nbconvert_exporter": "python",
   "pygments_lexer": "ipython3",
   "version": "3.9.15"
  },
  "orig_nbformat": 4,
  "vscode": {
   "interpreter": {
    "hash": "72e38a296cfdcb72d507ac90300b95ec9677bb17d7cee71ed3f88ce21f3b7fe9"
   }
  }
 },
 "nbformat": 4,
 "nbformat_minor": 2
}
